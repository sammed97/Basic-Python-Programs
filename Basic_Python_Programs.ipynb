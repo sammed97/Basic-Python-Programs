{
  "nbformat": 4,
  "nbformat_minor": 0,
  "metadata": {
    "colab": {
      "name": "Basic Python Programs",
      "provenance": [],
      "authorship_tag": "ABX9TyOmyNx5Vccrazy+FS6+PITZ",
      "include_colab_link": true
    },
    "kernelspec": {
      "name": "python3",
      "display_name": "Python 3"
    },
    "language_info": {
      "name": "python"
    }
  },
  "cells": [
    {
      "cell_type": "markdown",
      "metadata": {
        "id": "view-in-github",
        "colab_type": "text"
      },
      "source": [
        "<a href=\"https://colab.research.google.com/github/sammed97/Basic-Python-Programs/blob/main/Basic_Python_Programs.ipynb\" target=\"_parent\"><img src=\"https://colab.research.google.com/assets/colab-badge.svg\" alt=\"Open In Colab\"/></a>"
      ]
    },
    {
      "cell_type": "markdown",
      "source": [
        "## **Prime Numbers in 1 to 100**"
      ],
      "metadata": {
        "id": "rVSTJKEGXigU"
      }
    },
    {
      "cell_type": "code",
      "execution_count": 7,
      "metadata": {
        "colab": {
          "base_uri": "https://localhost:8080/"
        },
        "id": "SamLk-JrUZTs",
        "outputId": "ac1a603b-07c4-42d3-8095-5e5144b4bf83"
      },
      "outputs": [
        {
          "output_type": "stream",
          "name": "stdout",
          "text": [
            "[2, 3, 5, 7, 11, 13, 17, 19, 23, 29, 31, 37, 41, 43, 47, 53, 59, 61, 67, 71, 73, 79, 83, 89, 97]\n"
          ]
        }
      ],
      "source": [
        "first_prime_numbers=[]\n",
        "for i in range(1,101):\n",
        "  if i > 1:\n",
        "    for j in range(2,i):\n",
        "      if (i%j)==0 :\n",
        "        break\n",
        "    else:\n",
        "      first_prime_numbers.append(i)\n",
        "print(first_prime_numbers)\n"
      ]
    },
    {
      "cell_type": "markdown",
      "source": [
        "## **Odd Numbers in 1 to 100**"
      ],
      "metadata": {
        "id": "6opTaTMhXomZ"
      }
    },
    {
      "cell_type": "code",
      "source": [
        "odd_numbers=[]\n",
        "for num in range(1,101):\n",
        "  if num % 2 != 0:\n",
        "    odd_numbers.append(num)\n",
        "print(odd_numbers)\n"
      ],
      "metadata": {
        "colab": {
          "base_uri": "https://localhost:8080/"
        },
        "id": "_GD-kcW-Vc4q",
        "outputId": "6be213b1-cef6-4046-db22-8c7149caaf0f"
      },
      "execution_count": 11,
      "outputs": [
        {
          "output_type": "stream",
          "name": "stdout",
          "text": [
            "[1, 3, 5, 7, 9, 11, 13, 15, 17, 19, 21, 23, 25, 27, 29, 31, 33, 35, 37, 39, 41, 43, 45, 47, 49, 51, 53, 55, 57, 59, 61, 63, 65, 67, 69, 71, 73, 75, 77, 79, 81, 83, 85, 87, 89, 91, 93, 95, 97, 99]\n"
          ]
        }
      ]
    },
    {
      "cell_type": "markdown",
      "source": [
        "## **Squared Numbers**"
      ],
      "metadata": {
        "id": "ljKRGXhEYR8W"
      }
    },
    {
      "cell_type": "code",
      "source": [
        "sqaured_numbers=[]\n",
        "for num in  range(1,11):\n",
        "  sqaured_numbers.append(num**2)\n",
        "sqaured_numbers"
      ],
      "metadata": {
        "colab": {
          "base_uri": "https://localhost:8080/"
        },
        "id": "t4YNkMhEXtJZ",
        "outputId": "20c2343a-ecab-4fa4-8b2b-077b07aa449f"
      },
      "execution_count": 14,
      "outputs": [
        {
          "output_type": "execute_result",
          "data": {
            "text/plain": [
              "[1, 4, 9, 16, 25, 36, 49, 64, 81, 100]"
            ]
          },
          "metadata": {},
          "execution_count": 14
        }
      ]
    },
    {
      "cell_type": "markdown",
      "source": [
        "## **Check Whether a number is prime or not?**"
      ],
      "metadata": {
        "id": "W31-eyxPemDQ"
      }
    },
    {
      "cell_type": "code",
      "source": [
        "num = int(input(\"Enter a number: \"))\n",
        "flag = False\n",
        "\n",
        "if num > 1:   #As prime numbers are greater than 1\n",
        "  for i in  range(2,num):\n",
        "    if (num % i) == 0:\n",
        "\n",
        "      flag= True\n",
        "      break\n",
        "    \n",
        "if flag:\n",
        "  print(num,'is not a prime number')\n",
        "\n",
        "else:\n",
        "  print(num,'is a prime number')"
      ],
      "metadata": {
        "colab": {
          "base_uri": "https://localhost:8080/"
        },
        "id": "czJbn420ZJPL",
        "outputId": "6d9f96ae-c7b9-4a1c-9945-0f2d61b47c7e"
      },
      "execution_count": 24,
      "outputs": [
        {
          "output_type": "stream",
          "name": "stdout",
          "text": [
            "Enter a number: 15\n",
            "15 is not a prime number\n"
          ]
        }
      ]
    },
    {
      "cell_type": "markdown",
      "source": [
        "## **Factorial of a number**"
      ],
      "metadata": {
        "id": "xJAW0YkNgLZL"
      }
    },
    {
      "cell_type": "code",
      "source": [
        "num = int(input(\"Enter a number: \"))\n",
        "factorial=1\n",
        "for i in range(1,num+1):\n",
        "  factorial*=i\n",
        "\n",
        "print(\"The factorial of \", num,'is',factorial)"
      ],
      "metadata": {
        "colab": {
          "base_uri": "https://localhost:8080/"
        },
        "id": "tSDFuXxmfVZW",
        "outputId": "2dbf0b1e-f1bf-4bc3-82bc-bd4b41658bae"
      },
      "execution_count": 27,
      "outputs": [
        {
          "output_type": "stream",
          "name": "stdout",
          "text": [
            "Enter a number: 7\n",
            "The factorial of  7 is 5040\n"
          ]
        }
      ]
    },
    {
      "cell_type": "code",
      "source": [
        ""
      ],
      "metadata": {
        "id": "jQDZcCoof6t5"
      },
      "execution_count": 27,
      "outputs": []
    }
  ]
}